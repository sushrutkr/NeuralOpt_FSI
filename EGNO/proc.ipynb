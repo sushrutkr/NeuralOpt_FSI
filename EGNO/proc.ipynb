{
 "cells": [
  {
   "cell_type": "code",
   "execution_count": 33,
   "metadata": {},
   "outputs": [],
   "source": [
    "import numpy as np\n",
    "\n",
    "# Load data\n",
    "data = np.load(\"predictions.npy\")  # shape = (batch_no, loc/vel, dataset_in_batch, n_nodes, timesteps, 3_directions)\n",
    "coords = data[1, 0, 1, :, :, :]  # Extract coordinates\n",
    "vel = data[1, 1, 1, :, :, :]  # Extract velocities\n",
    "connect = np.load(\"connectivity.npy\")  # Load connectivity data\n",
    "ntimesteps = coords.shape[1]\n",
    "\n",
    "# Define the Tecplot file writing function\n",
    "def write_tecplot_dat(filename, coords, vel, connectivity):\n",
    "  n_nodes = coords.shape[0]\n",
    "  n_elements = connectivity.shape[0]\n",
    "\n",
    "  with open(filename, 'w') as f:\n",
    "    f.write('TITLE=\"3D TRIANGULAR SURFACE DATA\"\\n')\n",
    "    f.write('VARIABLES=\"X\",\"Y\",\"Z\"\\n')\n",
    "    f.write(f'ZONE T=\"unstruc\" N={n_nodes} E={n_elements} F=FEPOINT ET=TRIANGLE\\n')\n",
    "\n",
    "    # Write node data\n",
    "    for i in range(n_nodes):\n",
    "      x, y, z = coords[i, :]\n",
    "      u, v, w = vel[i, :]\n",
    "      f.write(f'{x} {y} {z}\\n')\n",
    "\n",
    "    # Write connectivity data\n",
    "    for conn in connectivity:\n",
    "      f.write(f'{conn[0] + 1} {conn[1] + 1} {conn[2] + 1}\\n')  # Tecplot uses 1-based indexing\n",
    "\n",
    "# Write the data to a Tecplot .dat file\n",
    "for t in range(ntimesteps):   \n",
    "  write_tecplot_dat(\"./postproc/output_%i.dat\"%t, coords[:,t,:], vel[:,t,:], connect)"
   ]
  },
  {
   "cell_type": "code",
   "execution_count": null,
   "metadata": {},
   "outputs": [],
   "source": []
  }
 ],
 "metadata": {
  "kernelspec": {
   "display_name": "myenv",
   "language": "python",
   "name": "python3"
  },
  "language_info": {
   "codemirror_mode": {
    "name": "ipython",
    "version": 3
   },
   "file_extension": ".py",
   "mimetype": "text/x-python",
   "name": "python",
   "nbconvert_exporter": "python",
   "pygments_lexer": "ipython3",
   "version": "3.11.9"
  }
 },
 "nbformat": 4,
 "nbformat_minor": 2
}
